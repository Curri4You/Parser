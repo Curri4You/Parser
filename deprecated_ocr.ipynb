{
 "cells": [
  {
   "cell_type": "code",
   "execution_count": 1,
   "metadata": {},
   "outputs": [],
   "source": [
    "import json\n",
    "import shutil\n",
    "# Provide your username and license code\n",
    "LicenseCode = \"854BD2C4-638E-4D8F-8C9C-C699C484EDE6\";\n",
    "UserName =  \"SMLEE099\";\n",
    "\n",
    "try:\n",
    "\timport requests\n",
    "except ImportError:\n",
    "\tprint(\"You need the requests library to be installed in order to use this sample.\")\n",
    "\tprint(\"Run 'pip install requests' to fix it.\")\n",
    "\n",
    "\texit()"
   ]
  },
  {
   "cell_type": "code",
   "execution_count": 2,
   "metadata": {},
   "outputs": [],
   "source": [
    "\n",
    "# Convert first 5 pages of multipage document into doc and txt\n",
    "RequestUrl = 'http://www.ocrwebservice.com/restservices/processDocument?language=korean&pagerange=1&outputformat=txt';\n",
    "\n",
    "#Full path to uploaded document\n",
    "FilePath =\"D:\\\\5.학교 백업\\\\4학년 1학기\\\\사이버보안 졸업 프로젝트\\\\Parser\\\\pdf\\\\엘텍_소프트웨어_사이버보안_2019.pdf\"\n",
    "\n",
    "with open(FilePath, 'rb') as image_file:\n",
    "    image_data = image_file.read()\n",
    "    \n",
    "r = requests.post(RequestUrl, data=image_data, auth=(UserName, LicenseCode))\n",
    "\n",
    "if r.status_code == 401:\n",
    "    #Please provide valid username and license code\n",
    "    print(\"Unauthorized request\")\n",
    "    exit()\n"
   ]
  },
  {
   "cell_type": "code",
   "execution_count": null,
   "metadata": {},
   "outputs": [],
   "source": [
    "image_data"
   ]
  },
  {
   "cell_type": "code",
   "execution_count": 3,
   "metadata": {},
   "outputs": [
    {
     "name": "stdout",
     "output_type": "stream",
     "text": [
      "Recognition Error: Daily page limit exceeded\n"
     ]
    },
    {
     "ename": "",
     "evalue": "",
     "output_type": "error",
     "traceback": [
      "\u001b[1;31mThe Kernel crashed while executing code in the the current cell or a previous cell. Please review the code in the cell(s) to identify a possible cause of the failure. Click <a href='https://aka.ms/vscodeJupyterKernelCrash'>here</a> for more info. View Jupyter <a href='command:jupyter.viewOutput'>log</a> for further details."
     ]
    }
   ],
   "source": [
    "# Decode Output response\n",
    "jobj = json.loads(r.content)\n",
    "\n",
    "ocrError = str(jobj[\"ErrorMessage\"])\n",
    "\n",
    "if ocrError != '':\n",
    "        #Error occurs during recognition\n",
    "        print (\"Recognition Error: \" + ocrError)\n",
    "        exit()"
   ]
  },
  {
   "cell_type": "code",
   "execution_count": 4,
   "metadata": {},
   "outputs": [],
   "source": [
    "# Decode Output response\n",
    "jobj = json.loads(r.content)\n",
    "\n",
    "ocrError = str(jobj[\"ErrorMessage\"])"
   ]
  },
  {
   "cell_type": "code",
   "execution_count": 5,
   "metadata": {},
   "outputs": [],
   "source": [
    "if ocrError != '':\n",
    "        #Error occurs during recognition\n",
    "        print (\"Recognition Error: \" + ocrError)\n",
    "        exit()"
   ]
  },
  {
   "cell_type": "code",
   "execution_count": 6,
   "metadata": {},
   "outputs": [
    {
     "data": {
      "text/plain": [
       "{'ErrorMessage': '',\n",
       " 'OutputInformation': None,\n",
       " 'AvailablePages': 0,\n",
       " 'ProcessedPages': 1,\n",
       " 'OCRText': [],\n",
       " 'OutputFileUrl': 'http://147.135.97.124/uploads/_output/8129_7cfe241e-f006-4ed1-a616-9fe0944cf076.txt',\n",
       " 'OutputFileUrl2': '',\n",
       " 'OutputFileUrl3': '',\n",
       " 'Reserved': [],\n",
       " 'OCRWords': [],\n",
       " 'TaskDescription': None}"
      ]
     },
     "execution_count": 6,
     "metadata": {},
     "output_type": "execute_result"
    }
   ],
   "source": [
    "jobj"
   ]
  },
  {
   "cell_type": "code",
   "execution_count": 7,
   "metadata": {},
   "outputs": [
    {
     "name": "stdout",
     "output_type": "stream",
     "text": [
      "Task Description:None\n",
      "Available Pages:0\n",
      "Processed Pages:1\n"
     ]
    }
   ],
   "source": [
    "\n",
    "# Task description\n",
    "print(\"Task Description:\" + str(jobj[\"TaskDescription\"]))\n",
    "\n",
    "# Available pages \n",
    "print(\"Available Pages:\" + str(jobj[\"AvailablePages\"]))\n",
    "\n",
    "# Processed pages \n",
    "print(\"Processed Pages:\" + str(jobj[\"ProcessedPages\"]))"
   ]
  },
  {
   "cell_type": "code",
   "execution_count": 10,
   "metadata": {},
   "outputs": [
    {
     "data": {
      "text/plain": [
       "{'ErrorMessage': '',\n",
       " 'OutputInformation': None,\n",
       " 'AvailablePages': 0,\n",
       " 'ProcessedPages': 1,\n",
       " 'OCRText': [],\n",
       " 'OutputFileUrl': 'http://147.135.97.124/uploads/_output/8129_7cfe241e-f006-4ed1-a616-9fe0944cf076.txt',\n",
       " 'OutputFileUrl2': '',\n",
       " 'OutputFileUrl3': '',\n",
       " 'Reserved': [],\n",
       " 'OCRWords': [],\n",
       " 'TaskDescription': None}"
      ]
     },
     "execution_count": 10,
     "metadata": {},
     "output_type": "execute_result"
    }
   ],
   "source": [
    "jobj"
   ]
  },
  {
   "cell_type": "code",
   "execution_count": 11,
   "metadata": {},
   "outputs": [
    {
     "name": "stdout",
     "output_type": "stream",
     "text": [
      "Extracted Text:[]\n"
     ]
    }
   ],
   "source": [
    "\n",
    "# Extracted text from first or single page\n",
    "print(\"Extracted Text:\" + str(jobj[\"OCRText\"]))"
   ]
  }
 ],
 "metadata": {
  "interpreter": {
   "hash": "b485adf93bff8ca269d5493edbedeaa1a759650bfde9cbea36fd7f7b559c92d8"
  },
  "kernelspec": {
   "display_name": "Python 3.9.6 64-bit",
   "language": "python",
   "name": "python3"
  },
  "language_info": {
   "codemirror_mode": {
    "name": "ipython",
    "version": 3
   },
   "file_extension": ".py",
   "mimetype": "text/x-python",
   "name": "python",
   "nbconvert_exporter": "python",
   "pygments_lexer": "ipython3",
   "version": "3.9.6"
  },
  "orig_nbformat": 4
 },
 "nbformat": 4,
 "nbformat_minor": 2
}
